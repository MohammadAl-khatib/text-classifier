{
 "cells": [
  {
   "cell_type": "markdown",
   "id": "8903bfcd-ff11-47db-a50a-ae2efb6f5d8c",
   "metadata": {},
   "source": [
    "# Machine Learning / Text Classification\n",
    "## Mohammad AlKhatib\n",
    "### 21/11/2021\n",
    "*This is a tutorial based lab, the tutorial can be found [here](https://realpython.com/python-keras-text-classification/)*"
   ]
  },
  {
   "cell_type": "code",
   "execution_count": 19,
   "id": "b59f3339-32cc-4844-a9f9-57e4db4b9eae",
   "metadata": {},
   "outputs": [],
   "source": [
    "import pandas as pd\n",
    "from sklearn.model_selection import train_test_split\n",
    "from sklearn.feature_extraction.text import CountVectorizer\n",
    "from sklearn.linear_model import LogisticRegression\n",
    "from keras.models import Sequential\n",
    "from keras import layers\n",
    "from keras.backend import clear_session\n",
    "import matplotlib.pyplot as plt"
   ]
  },
  {
   "cell_type": "markdown",
   "id": "d5010813-65e8-4a86-ab41-5eff3d0286c9",
   "metadata": {},
   "source": [
    "## Datasets"
   ]
  },
  {
   "cell_type": "code",
   "execution_count": 2,
   "id": "12969ea9-edad-4c60-94c8-04b04f060405",
   "metadata": {},
   "outputs": [],
   "source": [
    "filepath_dict = {'yelp':   'data/yelp_labelled.txt',\n",
    "                 'amazon': 'data/amazon_cells_labelled.txt',\n",
    "                 'imdb':   'data/imdb_labelled.txt'}"
   ]
  },
  {
   "cell_type": "code",
   "execution_count": 3,
   "id": "468fbea8-9ccd-45b8-b03e-9765cf39131c",
   "metadata": {},
   "outputs": [
    {
     "name": "stdout",
     "output_type": "stream",
     "text": [
      "sentence    Wow... Loved this place.\n",
      "label                              1\n",
      "source                          yelp\n",
      "Name: 0, dtype: object\n"
     ]
    }
   ],
   "source": [
    "filepath_dict.items()\n",
    "df_list = []\n",
    "for source, filepath in filepath_dict.items():\n",
    "    df = pd.read_csv(filepath, names=['sentence', 'label'], sep='\\t')\n",
    "    df['source'] = source  # Add another column filled with the source name\n",
    "    df_list.append(df)\n",
    "\n",
    "df = pd.concat(df_list)\n",
    "print(df.iloc[0])"
   ]
  },
  {
   "cell_type": "markdown",
   "id": "d3929890-161d-4f1f-a855-71d274d37c17",
   "metadata": {
    "tags": []
   },
   "source": [
    "## Shape Yelp Data"
   ]
  },
  {
   "cell_type": "code",
   "execution_count": 4,
   "id": "e1c1e948-478b-41ca-8039-76f08a83d21b",
   "metadata": {},
   "outputs": [],
   "source": [
    "df_yelp = df[df['source'] == 'yelp']\n",
    "yelp_sentences = df_yelp['sentence'].values\n",
    "yelp_y = df_yelp['label'].values\n",
    "sentences_train, sentences_test, y_train, y_test = train_test_split(yelp_sentences, yelp_y, test_size=0.25, random_state=1000)"
   ]
  },
  {
   "cell_type": "code",
   "execution_count": 5,
   "id": "8696248b-614b-4d9f-8b3a-e0d4159b9851",
   "metadata": {},
   "outputs": [
    {
     "data": {
      "text/plain": [
       "<750x1714 sparse matrix of type '<class 'numpy.int64'>'\n",
       "\twith 7368 stored elements in Compressed Sparse Row format>"
      ]
     },
     "execution_count": 5,
     "metadata": {},
     "output_type": "execute_result"
    }
   ],
   "source": [
    "vectorizer = CountVectorizer()\n",
    "vectorizer.fit(sentences_train)\n",
    "X_train = vectorizer.transform(sentences_train)\n",
    "X_test  = vectorizer.transform(sentences_test)\n",
    "X_train"
   ]
  },
  {
   "cell_type": "markdown",
   "id": "4295b1a3-e062-493f-a4e7-9ac8d2fdcdfe",
   "metadata": {},
   "source": [
    "## Train Yelp Data"
   ]
  },
  {
   "cell_type": "code",
   "execution_count": 6,
   "id": "2f5d403d-188c-4664-8506-b5597cda591d",
   "metadata": {},
   "outputs": [
    {
     "name": "stdout",
     "output_type": "stream",
     "text": [
      "Accuracy: 0.796\n"
     ]
    }
   ],
   "source": [
    "classifier = LogisticRegression()\n",
    "classifier.fit(X_train, y_train)\n",
    "score = classifier.score(X_test, y_test)\n",
    "print(\"Accuracy:\", score)"
   ]
  },
  {
   "cell_type": "markdown",
   "id": "a1b49232-243b-4a7c-8c78-a536b910052d",
   "metadata": {},
   "source": [
    "## Shape IMDB data"
   ]
  },
  {
   "cell_type": "code",
   "execution_count": 7,
   "id": "41c53841-4f8f-46dc-a7f2-6a82aab5ca81",
   "metadata": {},
   "outputs": [],
   "source": [
    "df_imdb = df[df['source'] == 'imdb']\n",
    "imdb_sentences = df_imdb['sentence'].values\n",
    "imdb_y = df_imdb['label'].values\n",
    "sentences_train, sentences_test, y_train, y_test = train_test_split(imdb_sentences, imdb_y, test_size=0.25, random_state=1000)"
   ]
  },
  {
   "cell_type": "code",
   "execution_count": 8,
   "id": "bdaa1797-df34-4d30-bb2f-bffc9325e3a9",
   "metadata": {},
   "outputs": [
    {
     "data": {
      "text/plain": [
       "<561x2505 sparse matrix of type '<class 'numpy.int64'>'\n",
       "\twith 8413 stored elements in Compressed Sparse Row format>"
      ]
     },
     "execution_count": 8,
     "metadata": {},
     "output_type": "execute_result"
    }
   ],
   "source": [
    "vectorizer = CountVectorizer()\n",
    "vectorizer.fit(sentences_train)\n",
    "X_train = vectorizer.transform(sentences_train)\n",
    "X_test  = vectorizer.transform(sentences_test)\n",
    "X_train"
   ]
  },
  {
   "cell_type": "markdown",
   "id": "64831745-2478-4dfc-a0e7-2807652a9964",
   "metadata": {},
   "source": [
    "## Train IMDB data"
   ]
  },
  {
   "cell_type": "code",
   "execution_count": 9,
   "id": "fcc82096-8df0-4c16-ab47-2b9750787333",
   "metadata": {},
   "outputs": [
    {
     "name": "stdout",
     "output_type": "stream",
     "text": [
      "Accuracy: 0.7486631016042781\n"
     ]
    }
   ],
   "source": [
    "classifier = LogisticRegression()\n",
    "classifier.fit(X_train, y_train)\n",
    "score = classifier.score(X_test, y_test)\n",
    "print(\"Accuracy:\", score)"
   ]
  },
  {
   "cell_type": "markdown",
   "id": "15949205-e9b4-42d6-b635-d2ef096876b5",
   "metadata": {},
   "source": [
    "## Shape Amazon data"
   ]
  },
  {
   "cell_type": "code",
   "execution_count": 10,
   "id": "ac35c236-d3b7-43bc-8871-b2fe246cc2a1",
   "metadata": {},
   "outputs": [],
   "source": [
    "df_amazon = df[df['source'] == 'amazon']\n",
    "amazon_sentences = df_amazon['sentence'].values\n",
    "amazon_y = df_amazon['label'].values\n",
    "sentences_train, sentences_test, y_train, y_test = train_test_split(amazon_sentences, amazon_y, test_size=0.25, random_state=10)"
   ]
  },
  {
   "cell_type": "code",
   "execution_count": 11,
   "id": "85ffe7a2-9728-46cb-8d0f-58cbf8d06915",
   "metadata": {},
   "outputs": [
    {
     "data": {
      "text/plain": [
       "<750x1552 sparse matrix of type '<class 'numpy.int64'>'\n",
       "\twith 6836 stored elements in Compressed Sparse Row format>"
      ]
     },
     "execution_count": 11,
     "metadata": {},
     "output_type": "execute_result"
    }
   ],
   "source": [
    "vectorizer = CountVectorizer()\n",
    "vectorizer.fit(sentences_train)\n",
    "X_train = vectorizer.transform(sentences_train)\n",
    "X_test  = vectorizer.transform(sentences_test)\n",
    "X_train"
   ]
  },
  {
   "cell_type": "markdown",
   "id": "661626b3-46a0-4d65-9325-e851aeeb63b8",
   "metadata": {},
   "source": [
    "## Train Amazon data"
   ]
  },
  {
   "cell_type": "code",
   "execution_count": 12,
   "id": "24dd1fb6-acf4-4b13-a9e6-ec0fd0bb824a",
   "metadata": {},
   "outputs": [
    {
     "name": "stdout",
     "output_type": "stream",
     "text": [
      "Accuracy: 0.808\n"
     ]
    }
   ],
   "source": [
    "classifier = LogisticRegression()\n",
    "classifier.fit(X_train, y_train)\n",
    "score = classifier.score(X_test, y_test)\n",
    "print(\"Accuracy:\", score)"
   ]
  },
  {
   "cell_type": "markdown",
   "id": "04cc5c9d-cb54-4e2b-af83-acd4fb868a1f",
   "metadata": {},
   "source": [
    "## Keras"
   ]
  },
  {
   "cell_type": "code",
   "execution_count": 13,
   "id": "5a35d4b7-056d-4670-ad78-1c69766427dd",
   "metadata": {},
   "outputs": [
    {
     "name": "stderr",
     "output_type": "stream",
     "text": [
      "2021-11-21 17:51:26.539208: W tensorflow/stream_executor/platform/default/dso_loader.cc:64] Could not load dynamic library 'libcuda.so.1'; dlerror: libcuda.so.1: cannot open shared object file: No such file or directory\n",
      "2021-11-21 17:51:26.539335: W tensorflow/stream_executor/cuda/cuda_driver.cc:269] failed call to cuInit: UNKNOWN ERROR (303)\n",
      "2021-11-21 17:51:26.539532: I tensorflow/stream_executor/cuda/cuda_diagnostics.cc:156] kernel driver does not appear to be running on this host (LAPTOP-DJGET086): /proc/driver/nvidia/version does not exist\n",
      "2021-11-21 17:51:26.539917: I tensorflow/core/platform/cpu_feature_guard.cc:151] This TensorFlow binary is optimized with oneAPI Deep Neural Network Library (oneDNN) to use the following CPU instructions in performance-critical operations:  AVX2 FMA\n",
      "To enable them in other operations, rebuild TensorFlow with the appropriate compiler flags.\n"
     ]
    }
   ],
   "source": [
    "input_dim = X_train.shape[1]\n",
    "model = Sequential()\n",
    "model.add(layers.Dense(10, input_dim=input_dim, activation='relu'))\n",
    "model.add(layers.Dense(1, activation='sigmoid'))"
   ]
  },
  {
   "cell_type": "code",
   "execution_count": 14,
   "id": "dbc30c21-68e4-4f06-8bf0-26d85fe8eda8",
   "metadata": {},
   "outputs": [
    {
     "name": "stdout",
     "output_type": "stream",
     "text": [
      "Model: \"sequential\"\n",
      "_________________________________________________________________\n",
      " Layer (type)                Output Shape              Param #   \n",
      "=================================================================\n",
      " dense (Dense)               (None, 10)                15530     \n",
      "                                                                 \n",
      " dense_1 (Dense)             (None, 1)                 11        \n",
      "                                                                 \n",
      "=================================================================\n",
      "Total params: 15,541\n",
      "Trainable params: 15,541\n",
      "Non-trainable params: 0\n",
      "_________________________________________________________________\n"
     ]
    }
   ],
   "source": [
    "model.compile(loss='binary_crossentropy', \n",
    "optimizer='adam', \n",
    "metrics=['accuracy'])\n",
    "model.summary()"
   ]
  },
  {
   "cell_type": "code",
   "execution_count": 15,
   "id": "05bf1a0a-78cf-4a02-8100-0ce9f42af65e",
   "metadata": {},
   "outputs": [
    {
     "name": "stderr",
     "output_type": "stream",
     "text": [
      "/home/mohammad/projects/courses/401/text-classifier/.venv/lib/python3.9/site-packages/tensorflow/python/framework/indexed_slices.py:448: UserWarning: Converting sparse IndexedSlices(IndexedSlices(indices=Tensor(\"gradient_tape/sequential/dense/embedding_lookup_sparse/Reshape_1:0\", shape=(None,), dtype=int32), values=Tensor(\"gradient_tape/sequential/dense/embedding_lookup_sparse/Reshape:0\", shape=(None, 10), dtype=float32), dense_shape=Tensor(\"gradient_tape/sequential/dense/embedding_lookup_sparse/Cast:0\", shape=(2,), dtype=int32))) to a dense Tensor of unknown shape. This may consume a large amount of memory.\n",
      "  warnings.warn(\n"
     ]
    }
   ],
   "source": [
    "history = model.fit(X_train, y_train,\n",
    "...                     epochs=100,\n",
    "...                     verbose=False,\n",
    "...                     validation_data=(X_test, y_test),\n",
    "...                     batch_size=10)"
   ]
  },
  {
   "cell_type": "code",
   "execution_count": 17,
   "id": "fb7ab53f-82c8-4bba-b6c8-39c78a56b42c",
   "metadata": {},
   "outputs": [],
   "source": [
    "clear_session()"
   ]
  },
  {
   "cell_type": "code",
   "execution_count": 18,
   "id": "b9e8a3f5-1fd7-4277-9b4e-2e9989aef0d1",
   "metadata": {},
   "outputs": [
    {
     "name": "stdout",
     "output_type": "stream",
     "text": [
      "Training Accuracy: 1.0000\n",
      "Testing Accuracy:  0.8320\n"
     ]
    }
   ],
   "source": [
    "loss, accuracy = model.evaluate(X_train, y_train, verbose=False)\n",
    "print(\"Training Accuracy: {:.4f}\".format(accuracy))\n",
    "loss, accuracy = model.evaluate(X_test, y_test, verbose=False)\n",
    "print(\"Testing Accuracy:  {:.4f}\".format(accuracy))"
   ]
  },
  {
   "cell_type": "code",
   "execution_count": 22,
   "id": "cebfd569-f780-424b-b382-1056279e4c19",
   "metadata": {},
   "outputs": [],
   "source": [
    "plt.style.use('ggplot')\n",
    "\n",
    "def plot_history(history):\n",
    "    acc = history.history['accuracy']\n",
    "    val_acc = history.history['val_accuracy']\n",
    "    loss = history.history['loss']\n",
    "    val_loss = history.history['val_loss']\n",
    "    x = range(1, len(acc) + 1)\n",
    "\n",
    "    plt.figure(figsize=(12, 5))\n",
    "    plt.subplot(1, 2, 1)\n",
    "    plt.plot(x, acc, 'b', label='Training acc')\n",
    "    plt.plot(x, val_acc, 'r', label='Validation acc')\n",
    "    plt.title('Training and validation accuracy')\n",
    "    plt.legend()\n",
    "    plt.subplot(1, 2, 2)\n",
    "    plt.plot(x, loss, 'b', label='Training loss')\n",
    "    plt.plot(x, val_loss, 'r', label='Validation loss')\n",
    "    plt.title('Training and validation loss')\n",
    "    plt.legend()"
   ]
  },
  {
   "cell_type": "code",
   "execution_count": 23,
   "id": "26e2188f-1cf1-4954-b65b-a6cd8977a491",
   "metadata": {},
   "outputs": [
    {
     "data": {
      "image/png": "[encoded data removed]",
      "text/plain": [
       "<Figure size 864x360 with 2 Axes>"
      ]
     },
     "metadata": {},
     "output_type": "display_data"
    }
   ],
   "source": [
    "plot_history(history)"
   ]
  },
  {
   "cell_type": "markdown",
   "id": "c62fc787-d19d-4a83-bc26-d582a497edd8",
   "metadata": {},
   "source": [
    "*The same Keras procedure can be applied also to imdb and yelp data*"
   ]
  },
  {
   "cell_type": "code",
   "execution_count": null,
   "id": "fa3d8617-f6cf-408a-b43d-f18b782bc881",
   "metadata": {},
   "outputs": [],
   "source": []
  }
 ],
 "metadata": {
  "kernelspec": {
   "display_name": "Python 3 (ipykernel)",
   "language": "python",
   "name": "python3"
  },
  "language_info": {
   "codemirror_mode": {
    "name": "ipython",
    "version": 3
   },
   "file_extension": ".py",
   "mimetype": "text/x-python",
   "name": "python",
   "nbconvert_exporter": "python",
   "pygments_lexer": "ipython3",
   "version": "3.9.5"
  }
 },
 "nbformat": 4,
 "nbformat_minor": 5
}
